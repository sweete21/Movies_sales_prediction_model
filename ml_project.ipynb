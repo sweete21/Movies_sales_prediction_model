{
 "cells": [
  {
   "cell_type": "code",
   "execution_count": 1,
   "id": "55ff3670",
   "metadata": {},
   "outputs": [],
   "source": [
    "import pandas as pd"
   ]
  },
  {
   "cell_type": "code",
   "execution_count": 2,
   "id": "de209c5a",
   "metadata": {},
   "outputs": [],
   "source": [
    "dataset=pd.read_csv('movies.csv')"
   ]
  },
  {
   "cell_type": "code",
   "execution_count": 3,
   "id": "db7b9593",
   "metadata": {},
   "outputs": [
    {
     "data": {
      "text/html": [
       "<div>\n",
       "<style scoped>\n",
       "    .dataframe tbody tr th:only-of-type {\n",
       "        vertical-align: middle;\n",
       "    }\n",
       "\n",
       "    .dataframe tbody tr th {\n",
       "        vertical-align: top;\n",
       "    }\n",
       "\n",
       "    .dataframe thead th {\n",
       "        text-align: right;\n",
       "    }\n",
       "</style>\n",
       "<table border=\"1\" class=\"dataframe\">\n",
       "  <thead>\n",
       "    <tr style=\"text-align: right;\">\n",
       "      <th></th>\n",
       "      <th>index</th>\n",
       "      <th>MovieID</th>\n",
       "      <th>Title</th>\n",
       "      <th>MPAA Rating</th>\n",
       "      <th>Budget</th>\n",
       "      <th>Gross</th>\n",
       "      <th>Release Date</th>\n",
       "      <th>Genre</th>\n",
       "      <th>Runtime</th>\n",
       "      <th>Rating</th>\n",
       "      <th>Rating Count</th>\n",
       "      <th>Summary</th>\n",
       "    </tr>\n",
       "  </thead>\n",
       "  <tbody>\n",
       "    <tr>\n",
       "      <th>0</th>\n",
       "      <td>0</td>\n",
       "      <td>1</td>\n",
       "      <td>Look Who's Talking</td>\n",
       "      <td>PG-13</td>\n",
       "      <td>7500000</td>\n",
       "      <td>296000000</td>\n",
       "      <td>1989-10-12</td>\n",
       "      <td>Romance</td>\n",
       "      <td>93</td>\n",
       "      <td>5.9</td>\n",
       "      <td>73638</td>\n",
       "      <td>After a single, career-minded woman is left on...</td>\n",
       "    </tr>\n",
       "    <tr>\n",
       "      <th>1</th>\n",
       "      <td>1</td>\n",
       "      <td>2</td>\n",
       "      <td>Driving Miss Daisy</td>\n",
       "      <td>PG</td>\n",
       "      <td>7500000</td>\n",
       "      <td>145793296</td>\n",
       "      <td>1989-12-13</td>\n",
       "      <td>Comedy</td>\n",
       "      <td>99</td>\n",
       "      <td>7.4</td>\n",
       "      <td>91075</td>\n",
       "      <td>An old Jewish woman and her African-American c...</td>\n",
       "    </tr>\n",
       "    <tr>\n",
       "      <th>2</th>\n",
       "      <td>2</td>\n",
       "      <td>3</td>\n",
       "      <td>Turner &amp; Hooch</td>\n",
       "      <td>PG</td>\n",
       "      <td>13000000</td>\n",
       "      <td>71079915</td>\n",
       "      <td>1989-07-28</td>\n",
       "      <td>Crime</td>\n",
       "      <td>100</td>\n",
       "      <td>7.2</td>\n",
       "      <td>91415</td>\n",
       "      <td>Det. Scott Turner (Tom Hanks) is an uptight, b...</td>\n",
       "    </tr>\n",
       "    <tr>\n",
       "      <th>3</th>\n",
       "      <td>3</td>\n",
       "      <td>4</td>\n",
       "      <td>Born on the Fourth of July</td>\n",
       "      <td>R</td>\n",
       "      <td>14000000</td>\n",
       "      <td>161001698</td>\n",
       "      <td>1989-12-20</td>\n",
       "      <td>War</td>\n",
       "      <td>145</td>\n",
       "      <td>7.2</td>\n",
       "      <td>91415</td>\n",
       "      <td>The biography of Ron Kovic. Paralyzed in the V...</td>\n",
       "    </tr>\n",
       "    <tr>\n",
       "      <th>4</th>\n",
       "      <td>4</td>\n",
       "      <td>5</td>\n",
       "      <td>Field of Dreams</td>\n",
       "      <td>PG</td>\n",
       "      <td>15000000</td>\n",
       "      <td>84431625</td>\n",
       "      <td>1989-04-21</td>\n",
       "      <td>Drama</td>\n",
       "      <td>107</td>\n",
       "      <td>7.5</td>\n",
       "      <td>101702</td>\n",
       "      <td>An Iowa corn farmer, hearing voices, interpret...</td>\n",
       "    </tr>\n",
       "  </tbody>\n",
       "</table>\n",
       "</div>"
      ],
      "text/plain": [
       "   index MovieID                       Title MPAA Rating    Budget      Gross  \\\n",
       "0      0       1          Look Who's Talking       PG-13   7500000  296000000   \n",
       "1      1       2          Driving Miss Daisy          PG   7500000  145793296   \n",
       "2      2       3              Turner & Hooch          PG  13000000   71079915   \n",
       "3      3       4  Born on the Fourth of July           R  14000000  161001698   \n",
       "4      4       5             Field of Dreams          PG  15000000   84431625   \n",
       "\n",
       "  Release Date    Genre Runtime Rating Rating Count  \\\n",
       "0   1989-10-12  Romance      93    5.9        73638   \n",
       "1   1989-12-13   Comedy      99    7.4        91075   \n",
       "2   1989-07-28    Crime     100    7.2        91415   \n",
       "3   1989-12-20      War     145    7.2        91415   \n",
       "4   1989-04-21    Drama     107    7.5       101702   \n",
       "\n",
       "                                             Summary  \n",
       "0  After a single, career-minded woman is left on...  \n",
       "1  An old Jewish woman and her African-American c...  \n",
       "2  Det. Scott Turner (Tom Hanks) is an uptight, b...  \n",
       "3  The biography of Ron Kovic. Paralyzed in the V...  \n",
       "4  An Iowa corn farmer, hearing voices, interpret...  "
      ]
     },
     "execution_count": 3,
     "metadata": {},
     "output_type": "execute_result"
    }
   ],
   "source": [
    "dataset.head()"
   ]
  },
  {
   "cell_type": "code",
   "execution_count": 4,
   "id": "5cd0484e",
   "metadata": {},
   "outputs": [],
   "source": [
    "dataset.drop_duplicates(inplace=True)"
   ]
  },
  {
   "cell_type": "code",
   "execution_count": 5,
   "id": "45755233",
   "metadata": {},
   "outputs": [
    {
     "data": {
      "text/plain": [
       "(7545, 12)"
      ]
     },
     "execution_count": 5,
     "metadata": {},
     "output_type": "execute_result"
    }
   ],
   "source": [
    "dataset.shape"
   ]
  },
  {
   "cell_type": "code",
   "execution_count": 6,
   "id": "55465e77",
   "metadata": {},
   "outputs": [
    {
     "name": "stdout",
     "output_type": "stream",
     "text": [
      "<class 'pandas.core.frame.DataFrame'>\n",
      "RangeIndex: 7545 entries, 0 to 7544\n",
      "Data columns (total 12 columns):\n",
      " #   Column        Non-Null Count  Dtype \n",
      "---  ------        --------------  ----- \n",
      " 0   index         7545 non-null   int64 \n",
      " 1   MovieID       7431 non-null   object\n",
      " 2   Title         7431 non-null   object\n",
      " 3   MPAA Rating   7143 non-null   object\n",
      " 4   Budget        7142 non-null   object\n",
      " 5   Gross         2816 non-null   object\n",
      " 6   Release Date  2570 non-null   object\n",
      " 7   Genre         3055 non-null   object\n",
      " 8   Runtime       1683 non-null   object\n",
      " 9   Rating        1077 non-null   object\n",
      " 10  Rating Count  509 non-null    object\n",
      " 11  Summary       496 non-null    object\n",
      "dtypes: int64(1), object(11)\n",
      "memory usage: 707.5+ KB\n"
     ]
    }
   ],
   "source": [
    "dataset.info()"
   ]
  },
  {
   "cell_type": "code",
   "execution_count": 7,
   "id": "0bf22930",
   "metadata": {},
   "outputs": [
    {
     "data": {
      "text/html": [
       "<div>\n",
       "<style scoped>\n",
       "    .dataframe tbody tr th:only-of-type {\n",
       "        vertical-align: middle;\n",
       "    }\n",
       "\n",
       "    .dataframe tbody tr th {\n",
       "        vertical-align: top;\n",
       "    }\n",
       "\n",
       "    .dataframe thead th {\n",
       "        text-align: right;\n",
       "    }\n",
       "</style>\n",
       "<table border=\"1\" class=\"dataframe\">\n",
       "  <thead>\n",
       "    <tr style=\"text-align: right;\">\n",
       "      <th></th>\n",
       "      <th>index</th>\n",
       "      <th>MovieID</th>\n",
       "      <th>Title</th>\n",
       "      <th>MPAA Rating</th>\n",
       "      <th>Budget</th>\n",
       "      <th>Gross</th>\n",
       "      <th>Release Date</th>\n",
       "      <th>Genre</th>\n",
       "      <th>Runtime</th>\n",
       "      <th>Rating</th>\n",
       "      <th>Rating Count</th>\n",
       "      <th>Summary</th>\n",
       "    </tr>\n",
       "  </thead>\n",
       "  <tbody>\n",
       "    <tr>\n",
       "      <th>0</th>\n",
       "      <td>0</td>\n",
       "      <td>1</td>\n",
       "      <td>Look Who's Talking</td>\n",
       "      <td>PG-13</td>\n",
       "      <td>7500000</td>\n",
       "      <td>296000000</td>\n",
       "      <td>1989-10-12</td>\n",
       "      <td>Romance</td>\n",
       "      <td>93</td>\n",
       "      <td>5.9</td>\n",
       "      <td>73638</td>\n",
       "      <td>After a single, career-minded woman is left on...</td>\n",
       "    </tr>\n",
       "    <tr>\n",
       "      <th>1</th>\n",
       "      <td>1</td>\n",
       "      <td>2</td>\n",
       "      <td>Driving Miss Daisy</td>\n",
       "      <td>PG</td>\n",
       "      <td>7500000</td>\n",
       "      <td>145793296</td>\n",
       "      <td>1989-12-13</td>\n",
       "      <td>Comedy</td>\n",
       "      <td>99</td>\n",
       "      <td>7.4</td>\n",
       "      <td>91075</td>\n",
       "      <td>An old Jewish woman and her African-American c...</td>\n",
       "    </tr>\n",
       "    <tr>\n",
       "      <th>2</th>\n",
       "      <td>2</td>\n",
       "      <td>3</td>\n",
       "      <td>Turner &amp; Hooch</td>\n",
       "      <td>PG</td>\n",
       "      <td>13000000</td>\n",
       "      <td>71079915</td>\n",
       "      <td>1989-07-28</td>\n",
       "      <td>Crime</td>\n",
       "      <td>100</td>\n",
       "      <td>7.2</td>\n",
       "      <td>91415</td>\n",
       "      <td>Det. Scott Turner (Tom Hanks) is an uptight, b...</td>\n",
       "    </tr>\n",
       "    <tr>\n",
       "      <th>3</th>\n",
       "      <td>3</td>\n",
       "      <td>4</td>\n",
       "      <td>Born on the Fourth of July</td>\n",
       "      <td>R</td>\n",
       "      <td>14000000</td>\n",
       "      <td>161001698</td>\n",
       "      <td>1989-12-20</td>\n",
       "      <td>War</td>\n",
       "      <td>145</td>\n",
       "      <td>7.2</td>\n",
       "      <td>91415</td>\n",
       "      <td>The biography of Ron Kovic. Paralyzed in the V...</td>\n",
       "    </tr>\n",
       "    <tr>\n",
       "      <th>4</th>\n",
       "      <td>4</td>\n",
       "      <td>5</td>\n",
       "      <td>Field of Dreams</td>\n",
       "      <td>PG</td>\n",
       "      <td>15000000</td>\n",
       "      <td>84431625</td>\n",
       "      <td>1989-04-21</td>\n",
       "      <td>Drama</td>\n",
       "      <td>107</td>\n",
       "      <td>7.5</td>\n",
       "      <td>101702</td>\n",
       "      <td>An Iowa corn farmer, hearing voices, interpret...</td>\n",
       "    </tr>\n",
       "    <tr>\n",
       "      <th>...</th>\n",
       "      <td>...</td>\n",
       "      <td>...</td>\n",
       "      <td>...</td>\n",
       "      <td>...</td>\n",
       "      <td>...</td>\n",
       "      <td>...</td>\n",
       "      <td>...</td>\n",
       "      <td>...</td>\n",
       "      <td>...</td>\n",
       "      <td>...</td>\n",
       "      <td>...</td>\n",
       "      <td>...</td>\n",
       "    </tr>\n",
       "    <tr>\n",
       "      <th>505</th>\n",
       "      <td>505</td>\n",
       "      <td>506</td>\n",
       "      <td>Big Hero 6</td>\n",
       "      <td>PG</td>\n",
       "      <td>165000000</td>\n",
       "      <td>652105443</td>\n",
       "      <td>2014-10-24</td>\n",
       "      <td>Animation</td>\n",
       "      <td>102</td>\n",
       "      <td>7.8</td>\n",
       "      <td>380953</td>\n",
       "      <td>The special bond that develops between plus-si...</td>\n",
       "    </tr>\n",
       "    <tr>\n",
       "      <th>506</th>\n",
       "      <td>506</td>\n",
       "      <td>507</td>\n",
       "      <td>Interstellar</td>\n",
       "      <td>PG-13</td>\n",
       "      <td>165000000</td>\n",
       "      <td>675120017</td>\n",
       "      <td>2014-11-05</td>\n",
       "      <td>Science Fiction</td>\n",
       "      <td>169</td>\n",
       "      <td>8.6</td>\n",
       "      <td>1343549</td>\n",
       "      <td>A team of explorers travel through a wormhole ...</td>\n",
       "    </tr>\n",
       "    <tr>\n",
       "      <th>507</th>\n",
       "      <td>507</td>\n",
       "      <td>508</td>\n",
       "      <td>Captain America: The Winter Soldier</td>\n",
       "      <td>PG-13</td>\n",
       "      <td>170000000</td>\n",
       "      <td>714766572</td>\n",
       "      <td>2014-03-20</td>\n",
       "      <td>Action</td>\n",
       "      <td>136</td>\n",
       "      <td>7.7</td>\n",
       "      <td>685903</td>\n",
       "      <td>As Steve Rogers struggles to embrace his role ...</td>\n",
       "    </tr>\n",
       "    <tr>\n",
       "      <th>508</th>\n",
       "      <td>508</td>\n",
       "      <td>509</td>\n",
       "      <td>Dawn of the Planet of the Apes</td>\n",
       "      <td>PG-13</td>\n",
       "      <td>170000000</td>\n",
       "      <td>710644566</td>\n",
       "      <td>2014-06-26</td>\n",
       "      <td>Science Fiction</td>\n",
       "      <td>130</td>\n",
       "      <td>7.6</td>\n",
       "      <td>395425</td>\n",
       "      <td>A growing nation of genetically evolved apes l...</td>\n",
       "    </tr>\n",
       "    <tr>\n",
       "      <th>509</th>\n",
       "      <td>509</td>\n",
       "      <td>510</td>\n",
       "      <td>Guardians of the Galaxy</td>\n",
       "      <td>PG-13</td>\n",
       "      <td>170000000</td>\n",
       "      <td>773328629</td>\n",
       "      <td>2014-07-30</td>\n",
       "      <td>Action</td>\n",
       "      <td>121</td>\n",
       "      <td>8</td>\n",
       "      <td>978222</td>\n",
       "      <td>A group of intergalactic criminals must pull t...</td>\n",
       "    </tr>\n",
       "  </tbody>\n",
       "</table>\n",
       "<p>496 rows × 12 columns</p>\n",
       "</div>"
      ],
      "text/plain": [
       "     index MovieID                                Title MPAA Rating  \\\n",
       "0        0       1                   Look Who's Talking       PG-13   \n",
       "1        1       2                   Driving Miss Daisy          PG   \n",
       "2        2       3                       Turner & Hooch          PG   \n",
       "3        3       4           Born on the Fourth of July           R   \n",
       "4        4       5                      Field of Dreams          PG   \n",
       "..     ...     ...                                  ...         ...   \n",
       "505    505     506                           Big Hero 6          PG   \n",
       "506    506     507                         Interstellar       PG-13   \n",
       "507    507     508  Captain America: The Winter Soldier       PG-13   \n",
       "508    508     509       Dawn of the Planet of the Apes       PG-13   \n",
       "509    509     510              Guardians of the Galaxy       PG-13   \n",
       "\n",
       "        Budget      Gross Release Date            Genre Runtime Rating  \\\n",
       "0      7500000  296000000   1989-10-12          Romance      93    5.9   \n",
       "1      7500000  145793296   1989-12-13           Comedy      99    7.4   \n",
       "2     13000000   71079915   1989-07-28            Crime     100    7.2   \n",
       "3     14000000  161001698   1989-12-20              War     145    7.2   \n",
       "4     15000000   84431625   1989-04-21            Drama     107    7.5   \n",
       "..         ...        ...          ...              ...     ...    ...   \n",
       "505  165000000  652105443   2014-10-24        Animation     102    7.8   \n",
       "506  165000000  675120017   2014-11-05  Science Fiction     169    8.6   \n",
       "507  170000000  714766572   2014-03-20           Action     136    7.7   \n",
       "508  170000000  710644566   2014-06-26  Science Fiction     130    7.6   \n",
       "509  170000000  773328629   2014-07-30           Action     121      8   \n",
       "\n",
       "    Rating Count                                            Summary  \n",
       "0          73638  After a single, career-minded woman is left on...  \n",
       "1          91075  An old Jewish woman and her African-American c...  \n",
       "2          91415  Det. Scott Turner (Tom Hanks) is an uptight, b...  \n",
       "3          91415  The biography of Ron Kovic. Paralyzed in the V...  \n",
       "4         101702  An Iowa corn farmer, hearing voices, interpret...  \n",
       "..           ...                                                ...  \n",
       "505       380953  The special bond that develops between plus-si...  \n",
       "506      1343549  A team of explorers travel through a wormhole ...  \n",
       "507       685903  As Steve Rogers struggles to embrace his role ...  \n",
       "508       395425  A growing nation of genetically evolved apes l...  \n",
       "509       978222  A group of intergalactic criminals must pull t...  \n",
       "\n",
       "[496 rows x 12 columns]"
      ]
     },
     "execution_count": 7,
     "metadata": {},
     "output_type": "execute_result"
    }
   ],
   "source": [
    "#Data preprocessing\n",
    "dataset.dropna()"
   ]
  },
  {
   "cell_type": "code",
   "execution_count": 8,
   "id": "bd4eebd6",
   "metadata": {},
   "outputs": [
    {
     "data": {
      "text/plain": [
       "(7545, 12)"
      ]
     },
     "execution_count": 8,
     "metadata": {},
     "output_type": "execute_result"
    }
   ],
   "source": [
    "dataset.shape"
   ]
  },
  {
   "cell_type": "code",
   "execution_count": 9,
   "id": "6a812321",
   "metadata": {},
   "outputs": [
    {
     "data": {
      "text/html": [
       "<div>\n",
       "<style scoped>\n",
       "    .dataframe tbody tr th:only-of-type {\n",
       "        vertical-align: middle;\n",
       "    }\n",
       "\n",
       "    .dataframe tbody tr th {\n",
       "        vertical-align: top;\n",
       "    }\n",
       "\n",
       "    .dataframe thead th {\n",
       "        text-align: right;\n",
       "    }\n",
       "</style>\n",
       "<table border=\"1\" class=\"dataframe\">\n",
       "  <thead>\n",
       "    <tr style=\"text-align: right;\">\n",
       "      <th></th>\n",
       "      <th>index</th>\n",
       "      <th>MovieID</th>\n",
       "      <th>Title</th>\n",
       "      <th>MPAA Rating</th>\n",
       "      <th>Budget</th>\n",
       "      <th>Gross</th>\n",
       "      <th>Release Date</th>\n",
       "      <th>Genre</th>\n",
       "      <th>Runtime</th>\n",
       "      <th>Rating</th>\n",
       "      <th>Rating Count</th>\n",
       "      <th>Summary</th>\n",
       "    </tr>\n",
       "  </thead>\n",
       "  <tbody>\n",
       "    <tr>\n",
       "      <th>0</th>\n",
       "      <td>0</td>\n",
       "      <td>1</td>\n",
       "      <td>Look Who's Talking</td>\n",
       "      <td>PG-13</td>\n",
       "      <td>7500000</td>\n",
       "      <td>296000000</td>\n",
       "      <td>1989-10-12</td>\n",
       "      <td>Romance</td>\n",
       "      <td>93</td>\n",
       "      <td>5.9</td>\n",
       "      <td>73638</td>\n",
       "      <td>After a single, career-minded woman is left on...</td>\n",
       "    </tr>\n",
       "    <tr>\n",
       "      <th>1</th>\n",
       "      <td>1</td>\n",
       "      <td>2</td>\n",
       "      <td>Driving Miss Daisy</td>\n",
       "      <td>PG</td>\n",
       "      <td>7500000</td>\n",
       "      <td>145793296</td>\n",
       "      <td>1989-12-13</td>\n",
       "      <td>Comedy</td>\n",
       "      <td>99</td>\n",
       "      <td>7.4</td>\n",
       "      <td>91075</td>\n",
       "      <td>An old Jewish woman and her African-American c...</td>\n",
       "    </tr>\n",
       "    <tr>\n",
       "      <th>2</th>\n",
       "      <td>2</td>\n",
       "      <td>3</td>\n",
       "      <td>Turner &amp; Hooch</td>\n",
       "      <td>PG</td>\n",
       "      <td>13000000</td>\n",
       "      <td>71079915</td>\n",
       "      <td>1989-07-28</td>\n",
       "      <td>Crime</td>\n",
       "      <td>100</td>\n",
       "      <td>7.2</td>\n",
       "      <td>91415</td>\n",
       "      <td>Det. Scott Turner (Tom Hanks) is an uptight, b...</td>\n",
       "    </tr>\n",
       "    <tr>\n",
       "      <th>3</th>\n",
       "      <td>3</td>\n",
       "      <td>4</td>\n",
       "      <td>Born on the Fourth of July</td>\n",
       "      <td>R</td>\n",
       "      <td>14000000</td>\n",
       "      <td>161001698</td>\n",
       "      <td>1989-12-20</td>\n",
       "      <td>War</td>\n",
       "      <td>145</td>\n",
       "      <td>7.2</td>\n",
       "      <td>91415</td>\n",
       "      <td>The biography of Ron Kovic. Paralyzed in the V...</td>\n",
       "    </tr>\n",
       "    <tr>\n",
       "      <th>4</th>\n",
       "      <td>4</td>\n",
       "      <td>5</td>\n",
       "      <td>Field of Dreams</td>\n",
       "      <td>PG</td>\n",
       "      <td>15000000</td>\n",
       "      <td>84431625</td>\n",
       "      <td>1989-04-21</td>\n",
       "      <td>Drama</td>\n",
       "      <td>107</td>\n",
       "      <td>7.5</td>\n",
       "      <td>101702</td>\n",
       "      <td>An Iowa corn farmer, hearing voices, interpret...</td>\n",
       "    </tr>\n",
       "    <tr>\n",
       "      <th>...</th>\n",
       "      <td>...</td>\n",
       "      <td>...</td>\n",
       "      <td>...</td>\n",
       "      <td>...</td>\n",
       "      <td>...</td>\n",
       "      <td>...</td>\n",
       "      <td>...</td>\n",
       "      <td>...</td>\n",
       "      <td>...</td>\n",
       "      <td>...</td>\n",
       "      <td>...</td>\n",
       "      <td>...</td>\n",
       "    </tr>\n",
       "    <tr>\n",
       "      <th>7540</th>\n",
       "      <td>7540</td>\n",
       "      <td>NaN</td>\n",
       "      <td>NaN</td>\n",
       "      <td>NaN</td>\n",
       "      <td>NaN</td>\n",
       "      <td>NaN</td>\n",
       "      <td>NaN</td>\n",
       "      <td>NaN</td>\n",
       "      <td>NaN</td>\n",
       "      <td>NaN</td>\n",
       "      <td>NaN</td>\n",
       "      <td>NaN</td>\n",
       "    </tr>\n",
       "    <tr>\n",
       "      <th>7541</th>\n",
       "      <td>7541</td>\n",
       "      <td>NaN</td>\n",
       "      <td>NaN</td>\n",
       "      <td>NaN</td>\n",
       "      <td>NaN</td>\n",
       "      <td>NaN</td>\n",
       "      <td>NaN</td>\n",
       "      <td>NaN</td>\n",
       "      <td>NaN</td>\n",
       "      <td>NaN</td>\n",
       "      <td>NaN</td>\n",
       "      <td>NaN</td>\n",
       "    </tr>\n",
       "    <tr>\n",
       "      <th>7542</th>\n",
       "      <td>7542</td>\n",
       "      <td>NaN</td>\n",
       "      <td>NaN</td>\n",
       "      <td>NaN</td>\n",
       "      <td>NaN</td>\n",
       "      <td>NaN</td>\n",
       "      <td>NaN</td>\n",
       "      <td>NaN</td>\n",
       "      <td>NaN</td>\n",
       "      <td>NaN</td>\n",
       "      <td>NaN</td>\n",
       "      <td>NaN</td>\n",
       "    </tr>\n",
       "    <tr>\n",
       "      <th>7543</th>\n",
       "      <td>7543</td>\n",
       "      <td>NaN</td>\n",
       "      <td>NaN</td>\n",
       "      <td>NaN</td>\n",
       "      <td>NaN</td>\n",
       "      <td>NaN</td>\n",
       "      <td>NaN</td>\n",
       "      <td>NaN</td>\n",
       "      <td>NaN</td>\n",
       "      <td>NaN</td>\n",
       "      <td>NaN</td>\n",
       "      <td>NaN</td>\n",
       "    </tr>\n",
       "    <tr>\n",
       "      <th>7544</th>\n",
       "      <td>7544</td>\n",
       "      <td>NaN</td>\n",
       "      <td>NaN</td>\n",
       "      <td>NaN</td>\n",
       "      <td>NaN</td>\n",
       "      <td>NaN</td>\n",
       "      <td>NaN</td>\n",
       "      <td>NaN</td>\n",
       "      <td>NaN</td>\n",
       "      <td>NaN</td>\n",
       "      <td>NaN</td>\n",
       "      <td>NaN</td>\n",
       "    </tr>\n",
       "  </tbody>\n",
       "</table>\n",
       "<p>7545 rows × 12 columns</p>\n",
       "</div>"
      ],
      "text/plain": [
       "      index MovieID                       Title MPAA Rating    Budget  \\\n",
       "0         0       1          Look Who's Talking       PG-13   7500000   \n",
       "1         1       2          Driving Miss Daisy          PG   7500000   \n",
       "2         2       3              Turner & Hooch          PG  13000000   \n",
       "3         3       4  Born on the Fourth of July           R  14000000   \n",
       "4         4       5             Field of Dreams          PG  15000000   \n",
       "...     ...     ...                         ...         ...       ...   \n",
       "7540   7540     NaN                         NaN         NaN       NaN   \n",
       "7541   7541     NaN                         NaN         NaN       NaN   \n",
       "7542   7542     NaN                         NaN         NaN       NaN   \n",
       "7543   7543     NaN                         NaN         NaN       NaN   \n",
       "7544   7544     NaN                         NaN         NaN       NaN   \n",
       "\n",
       "          Gross Release Date    Genre Runtime Rating Rating Count  \\\n",
       "0     296000000   1989-10-12  Romance      93    5.9        73638   \n",
       "1     145793296   1989-12-13   Comedy      99    7.4        91075   \n",
       "2      71079915   1989-07-28    Crime     100    7.2        91415   \n",
       "3     161001698   1989-12-20      War     145    7.2        91415   \n",
       "4      84431625   1989-04-21    Drama     107    7.5       101702   \n",
       "...         ...          ...      ...     ...    ...          ...   \n",
       "7540        NaN          NaN      NaN     NaN    NaN          NaN   \n",
       "7541        NaN          NaN      NaN     NaN    NaN          NaN   \n",
       "7542        NaN          NaN      NaN     NaN    NaN          NaN   \n",
       "7543        NaN          NaN      NaN     NaN    NaN          NaN   \n",
       "7544        NaN          NaN      NaN     NaN    NaN          NaN   \n",
       "\n",
       "                                                Summary  \n",
       "0     After a single, career-minded woman is left on...  \n",
       "1     An old Jewish woman and her African-American c...  \n",
       "2     Det. Scott Turner (Tom Hanks) is an uptight, b...  \n",
       "3     The biography of Ron Kovic. Paralyzed in the V...  \n",
       "4     An Iowa corn farmer, hearing voices, interpret...  \n",
       "...                                                 ...  \n",
       "7540                                                NaN  \n",
       "7541                                                NaN  \n",
       "7542                                                NaN  \n",
       "7543                                                NaN  \n",
       "7544                                                NaN  \n",
       "\n",
       "[7545 rows x 12 columns]"
      ]
     },
     "execution_count": 9,
     "metadata": {},
     "output_type": "execute_result"
    }
   ],
   "source": [
    "dataset.drop_duplicates()"
   ]
  },
  {
   "cell_type": "code",
   "execution_count": 10,
   "id": "5addeb19",
   "metadata": {},
   "outputs": [],
   "source": [
    "# Drop rows with any NaN/null values in any column\n",
    "dataset = dataset.dropna()\n",
    "\n",
    "# Drop rows where all values are NaN/null\n",
    "dataset= dataset.dropna(how='all')\n"
   ]
  },
  {
   "cell_type": "code",
   "execution_count": 11,
   "id": "6f779517",
   "metadata": {},
   "outputs": [
    {
     "data": {
      "text/plain": [
       "(496, 12)"
      ]
     },
     "execution_count": 11,
     "metadata": {},
     "output_type": "execute_result"
    }
   ],
   "source": [
    "dataset.shape"
   ]
  },
  {
   "cell_type": "code",
   "execution_count": 12,
   "id": "4bcac7d1",
   "metadata": {},
   "outputs": [
    {
     "data": {
      "image/png": "[encoded data removed]",
      "text/plain": [
       "<Figure size 1800x600 with 1 Axes>"
      ]
     },
     "metadata": {},
     "output_type": "display_data"
    }
   ],
   "source": [
    "#Data Visualization\n",
    "import matplotlib.pyplot as plt\n",
    "plt.figure(figsize=(18, 6))\n",
    "plt.hist(dataset['Rating'], bins=20, color='skyblue', edgecolor='black')\n",
    "plt.xlabel('Rating')\n",
    "plt.ylabel('Frequency')\n",
    "plt.title('Distribution of Movie Ratings')\n",
    "plt.show()"
   ]
  },
  {
   "cell_type": "code",
   "execution_count": 13,
   "id": "93600b97",
   "metadata": {},
   "outputs": [
    {
     "data": {
      "image/png": "[encoded data removed]",
      "text/plain": [
       "<Figure size 1000x600 with 1 Axes>"
      ]
     },
     "metadata": {},
     "output_type": "display_data"
    }
   ],
   "source": [
    "import seaborn as sns\n",
    "import matplotlib.pyplot as plt\n",
    "\n",
    "plt.figure(figsize=(10, 6))  # Adjust the figure size as needed\n",
    "sns.countplot(data=dataset, x='Release Date')\n",
    "plt.xlabel('Release Date')\n",
    "plt.ylabel('Number of Movies')\n",
    "plt.title('Frequency Of Movie Release')\n",
    "plt.xticks(rotation=90)  # Rotate x-axis labels for better readability\n",
    "plt.show()"
   ]
  },
  {
   "cell_type": "code",
   "execution_count": 14,
   "id": "9f9d479b",
   "metadata": {},
   "outputs": [
    {
     "data": {
      "image/png": "[encoded data removed]",
      "text/plain": [
       "<Figure size 640x480 with 1 Axes>"
      ]
     },
     "metadata": {},
     "output_type": "display_data"
    }
   ],
   "source": [
    "import numpy as np\n",
    "import matplotlib.pyplot as plt\n",
    "\n",
    "# Assuming 'data' is the DataFrame and 'Runtime' and 'Rating' are columns within it\n",
    "x = np.random.normal(dataset['Runtime'], 5.0)\n",
    "y = np.random.normal(dataset['Rating'], 1.0)\n",
    "\n",
    "plt.scatter(x, y)\n",
    "plt.xlabel('Runtime')\n",
    "plt.ylabel('Rating')\n",
    "plt.title('Random Normal Scatter Plot')\n",
    "plt.show()\n"
   ]
  },
  {
   "cell_type": "code",
   "execution_count": 15,
   "id": "42045d22",
   "metadata": {},
   "outputs": [
    {
     "data": {
      "image/png": "[encoded data removed]",
      "text/plain": [
       "<Figure size 1000x600 with 1 Axes>"
      ]
     },
     "metadata": {},
     "output_type": "display_data"
    }
   ],
   "source": [
    "import pandas as pd\n",
    "\n",
    "# Assuming 'dataset' is your DataFrame\n",
    "# Cleaning 'Rating' column and converting it to numeric\n",
    "dataset['Rating'] = dataset['Rating'].str.replace(r'[^\\d.]+', '', regex=True).astype(float)\n",
    "\n",
    "# Now, calculate the mean rating for each genre\n",
    "genre_ratings = dataset.groupby('Genre')['Rating'].mean().reset_index()\n",
    "\n",
    "# Plotting the bar plot\n",
    "import matplotlib.pyplot as plt\n",
    "plt.figure(figsize=(10, 6))\n",
    "plt.bar(genre_ratings['Genre'], genre_ratings['Rating'])\n",
    "plt.xlabel('Genre')\n",
    "plt.ylabel('Average Rating')\n",
    "plt.title('Average Rating by Genre')\n",
    "plt.xticks(rotation=90)\n",
    "plt.show()\n"
   ]
  },
  {
   "cell_type": "code",
   "execution_count": 16,
   "id": "acb0592c",
   "metadata": {},
   "outputs": [
    {
     "data": {
      "image/png": "[encoded data removed]",
      "text/plain": [
       "<Figure size 2000x1000 with 1 Axes>"
      ]
     },
     "metadata": {},
     "output_type": "display_data"
    }
   ],
   "source": [
    "import seaborn as sns\n",
    "import matplotlib.pyplot as plt\n",
    "\n",
    "# Assuming 'data' is your DataFrame\n",
    "plt.figure(figsize=(20, 10))  # Adjust the figure size\n",
    "sns.boxplot(data=dataset, x='Budget', y='Rating')\n",
    "plt.xlabel('Budget')\n",
    "plt.ylabel('Rating')\n",
    "plt.title('Box Plot of Rating by Budget')\n",
    "plt.xticks(rotation=90)  # Rotate x-axis labels for better readability\n",
    "plt.show()"
   ]
  },
  {
   "cell_type": "code",
   "execution_count": 17,
   "id": "95f194e7",
   "metadata": {},
   "outputs": [
    {
     "data": {
      "text/html": [
       "<div>\n",
       "<style scoped>\n",
       "    .dataframe tbody tr th:only-of-type {\n",
       "        vertical-align: middle;\n",
       "    }\n",
       "\n",
       "    .dataframe tbody tr th {\n",
       "        vertical-align: top;\n",
       "    }\n",
       "\n",
       "    .dataframe thead th {\n",
       "        text-align: right;\n",
       "    }\n",
       "</style>\n",
       "<table border=\"1\" class=\"dataframe\">\n",
       "  <thead>\n",
       "    <tr style=\"text-align: right;\">\n",
       "      <th></th>\n",
       "      <th>index</th>\n",
       "      <th>MovieID</th>\n",
       "      <th>Title</th>\n",
       "      <th>MPAA Rating</th>\n",
       "      <th>Budget</th>\n",
       "      <th>Gross</th>\n",
       "      <th>Release Date</th>\n",
       "      <th>Genre</th>\n",
       "      <th>Runtime</th>\n",
       "      <th>Rating</th>\n",
       "      <th>Rating Count</th>\n",
       "      <th>Summary</th>\n",
       "    </tr>\n",
       "  </thead>\n",
       "  <tbody>\n",
       "    <tr>\n",
       "      <th>0</th>\n",
       "      <td>0</td>\n",
       "      <td>1</td>\n",
       "      <td>Look Who's Talking</td>\n",
       "      <td>PG-13</td>\n",
       "      <td>7500000</td>\n",
       "      <td>296000000</td>\n",
       "      <td>1989-10-12</td>\n",
       "      <td>Romance</td>\n",
       "      <td>93</td>\n",
       "      <td>5.9</td>\n",
       "      <td>73638</td>\n",
       "      <td>After a single, career-minded woman is left on...</td>\n",
       "    </tr>\n",
       "    <tr>\n",
       "      <th>1</th>\n",
       "      <td>1</td>\n",
       "      <td>2</td>\n",
       "      <td>Driving Miss Daisy</td>\n",
       "      <td>PG</td>\n",
       "      <td>7500000</td>\n",
       "      <td>145793296</td>\n",
       "      <td>1989-12-13</td>\n",
       "      <td>Comedy</td>\n",
       "      <td>99</td>\n",
       "      <td>7.4</td>\n",
       "      <td>91075</td>\n",
       "      <td>An old Jewish woman and her African-American c...</td>\n",
       "    </tr>\n",
       "    <tr>\n",
       "      <th>2</th>\n",
       "      <td>2</td>\n",
       "      <td>3</td>\n",
       "      <td>Turner &amp; Hooch</td>\n",
       "      <td>PG</td>\n",
       "      <td>13000000</td>\n",
       "      <td>71079915</td>\n",
       "      <td>1989-07-28</td>\n",
       "      <td>Crime</td>\n",
       "      <td>100</td>\n",
       "      <td>7.2</td>\n",
       "      <td>91415</td>\n",
       "      <td>Det. Scott Turner (Tom Hanks) is an uptight, b...</td>\n",
       "    </tr>\n",
       "    <tr>\n",
       "      <th>3</th>\n",
       "      <td>3</td>\n",
       "      <td>4</td>\n",
       "      <td>Born on the Fourth of July</td>\n",
       "      <td>R</td>\n",
       "      <td>14000000</td>\n",
       "      <td>161001698</td>\n",
       "      <td>1989-12-20</td>\n",
       "      <td>War</td>\n",
       "      <td>145</td>\n",
       "      <td>7.2</td>\n",
       "      <td>91415</td>\n",
       "      <td>The biography of Ron Kovic. Paralyzed in the V...</td>\n",
       "    </tr>\n",
       "    <tr>\n",
       "      <th>4</th>\n",
       "      <td>4</td>\n",
       "      <td>5</td>\n",
       "      <td>Field of Dreams</td>\n",
       "      <td>PG</td>\n",
       "      <td>15000000</td>\n",
       "      <td>84431625</td>\n",
       "      <td>1989-04-21</td>\n",
       "      <td>Drama</td>\n",
       "      <td>107</td>\n",
       "      <td>7.5</td>\n",
       "      <td>101702</td>\n",
       "      <td>An Iowa corn farmer, hearing voices, interpret...</td>\n",
       "    </tr>\n",
       "  </tbody>\n",
       "</table>\n",
       "</div>"
      ],
      "text/plain": [
       "   index MovieID                       Title MPAA Rating    Budget      Gross  \\\n",
       "0      0       1          Look Who's Talking       PG-13   7500000  296000000   \n",
       "1      1       2          Driving Miss Daisy          PG   7500000  145793296   \n",
       "2      2       3              Turner & Hooch          PG  13000000   71079915   \n",
       "3      3       4  Born on the Fourth of July           R  14000000  161001698   \n",
       "4      4       5             Field of Dreams          PG  15000000   84431625   \n",
       "\n",
       "  Release Date    Genre Runtime  Rating Rating Count  \\\n",
       "0   1989-10-12  Romance      93     5.9        73638   \n",
       "1   1989-12-13   Comedy      99     7.4        91075   \n",
       "2   1989-07-28    Crime     100     7.2        91415   \n",
       "3   1989-12-20      War     145     7.2        91415   \n",
       "4   1989-04-21    Drama     107     7.5       101702   \n",
       "\n",
       "                                             Summary  \n",
       "0  After a single, career-minded woman is left on...  \n",
       "1  An old Jewish woman and her African-American c...  \n",
       "2  Det. Scott Turner (Tom Hanks) is an uptight, b...  \n",
       "3  The biography of Ron Kovic. Paralyzed in the V...  \n",
       "4  An Iowa corn farmer, hearing voices, interpret...  "
      ]
     },
     "execution_count": 17,
     "metadata": {},
     "output_type": "execute_result"
    }
   ],
   "source": [
    "dataset.head()"
   ]
  },
  {
   "cell_type": "code",
   "execution_count": 18,
   "id": "63097187",
   "metadata": {},
   "outputs": [],
   "source": [
    "x = dataset[['Genre', 'Runtime', 'Budget']]\n",
    "y = dataset['Rating']\n"
   ]
  },
  {
   "cell_type": "code",
   "execution_count": 19,
   "id": "47ca0b10",
   "metadata": {},
   "outputs": [],
   "source": [
    "from sklearn.preprocessing import LabelEncoder\n",
    "x = dataset[['Genre', 'Runtime', 'Budget']]\n",
    "y = dataset['Rating']"
   ]
  },
  {
   "cell_type": "code",
   "execution_count": 20,
   "id": "86ad117e",
   "metadata": {},
   "outputs": [
    {
     "data": {
      "text/html": [
       "<div>\n",
       "<style scoped>\n",
       "    .dataframe tbody tr th:only-of-type {\n",
       "        vertical-align: middle;\n",
       "    }\n",
       "\n",
       "    .dataframe tbody tr th {\n",
       "        vertical-align: top;\n",
       "    }\n",
       "\n",
       "    .dataframe thead th {\n",
       "        text-align: right;\n",
       "    }\n",
       "</style>\n",
       "<table border=\"1\" class=\"dataframe\">\n",
       "  <thead>\n",
       "    <tr style=\"text-align: right;\">\n",
       "      <th></th>\n",
       "      <th>index</th>\n",
       "      <th>MovieID</th>\n",
       "      <th>Title</th>\n",
       "      <th>MPAA Rating</th>\n",
       "      <th>Budget</th>\n",
       "      <th>Gross</th>\n",
       "      <th>Release Date</th>\n",
       "      <th>Genre</th>\n",
       "      <th>Runtime</th>\n",
       "      <th>Rating</th>\n",
       "      <th>Rating Count</th>\n",
       "      <th>Summary</th>\n",
       "    </tr>\n",
       "  </thead>\n",
       "  <tbody>\n",
       "    <tr>\n",
       "      <th>0</th>\n",
       "      <td>0</td>\n",
       "      <td>1</td>\n",
       "      <td>Look Who's Talking</td>\n",
       "      <td>PG-13</td>\n",
       "      <td>7500000</td>\n",
       "      <td>296000000</td>\n",
       "      <td>1989-10-12</td>\n",
       "      <td>Romance</td>\n",
       "      <td>93</td>\n",
       "      <td>5.9</td>\n",
       "      <td>73638</td>\n",
       "      <td>After a single, career-minded woman is left on...</td>\n",
       "    </tr>\n",
       "    <tr>\n",
       "      <th>1</th>\n",
       "      <td>1</td>\n",
       "      <td>2</td>\n",
       "      <td>Driving Miss Daisy</td>\n",
       "      <td>PG</td>\n",
       "      <td>7500000</td>\n",
       "      <td>145793296</td>\n",
       "      <td>1989-12-13</td>\n",
       "      <td>Comedy</td>\n",
       "      <td>99</td>\n",
       "      <td>7.4</td>\n",
       "      <td>91075</td>\n",
       "      <td>An old Jewish woman and her African-American c...</td>\n",
       "    </tr>\n",
       "    <tr>\n",
       "      <th>2</th>\n",
       "      <td>2</td>\n",
       "      <td>3</td>\n",
       "      <td>Turner &amp; Hooch</td>\n",
       "      <td>PG</td>\n",
       "      <td>13000000</td>\n",
       "      <td>71079915</td>\n",
       "      <td>1989-07-28</td>\n",
       "      <td>Crime</td>\n",
       "      <td>100</td>\n",
       "      <td>7.2</td>\n",
       "      <td>91415</td>\n",
       "      <td>Det. Scott Turner (Tom Hanks) is an uptight, b...</td>\n",
       "    </tr>\n",
       "    <tr>\n",
       "      <th>3</th>\n",
       "      <td>3</td>\n",
       "      <td>4</td>\n",
       "      <td>Born on the Fourth of July</td>\n",
       "      <td>R</td>\n",
       "      <td>14000000</td>\n",
       "      <td>161001698</td>\n",
       "      <td>1989-12-20</td>\n",
       "      <td>War</td>\n",
       "      <td>145</td>\n",
       "      <td>7.2</td>\n",
       "      <td>91415</td>\n",
       "      <td>The biography of Ron Kovic. Paralyzed in the V...</td>\n",
       "    </tr>\n",
       "    <tr>\n",
       "      <th>4</th>\n",
       "      <td>4</td>\n",
       "      <td>5</td>\n",
       "      <td>Field of Dreams</td>\n",
       "      <td>PG</td>\n",
       "      <td>15000000</td>\n",
       "      <td>84431625</td>\n",
       "      <td>1989-04-21</td>\n",
       "      <td>Drama</td>\n",
       "      <td>107</td>\n",
       "      <td>7.5</td>\n",
       "      <td>101702</td>\n",
       "      <td>An Iowa corn farmer, hearing voices, interpret...</td>\n",
       "    </tr>\n",
       "  </tbody>\n",
       "</table>\n",
       "</div>"
      ],
      "text/plain": [
       "   index MovieID                       Title MPAA Rating    Budget      Gross  \\\n",
       "0      0       1          Look Who's Talking       PG-13   7500000  296000000   \n",
       "1      1       2          Driving Miss Daisy          PG   7500000  145793296   \n",
       "2      2       3              Turner & Hooch          PG  13000000   71079915   \n",
       "3      3       4  Born on the Fourth of July           R  14000000  161001698   \n",
       "4      4       5             Field of Dreams          PG  15000000   84431625   \n",
       "\n",
       "  Release Date    Genre Runtime  Rating Rating Count  \\\n",
       "0   1989-10-12  Romance      93     5.9        73638   \n",
       "1   1989-12-13   Comedy      99     7.4        91075   \n",
       "2   1989-07-28    Crime     100     7.2        91415   \n",
       "3   1989-12-20      War     145     7.2        91415   \n",
       "4   1989-04-21    Drama     107     7.5       101702   \n",
       "\n",
       "                                             Summary  \n",
       "0  After a single, career-minded woman is left on...  \n",
       "1  An old Jewish woman and her African-American c...  \n",
       "2  Det. Scott Turner (Tom Hanks) is an uptight, b...  \n",
       "3  The biography of Ron Kovic. Paralyzed in the V...  \n",
       "4  An Iowa corn farmer, hearing voices, interpret...  "
      ]
     },
     "execution_count": 20,
     "metadata": {},
     "output_type": "execute_result"
    }
   ],
   "source": [
    "dataset.head()"
   ]
  },
  {
   "cell_type": "code",
   "execution_count": 21,
   "id": "0bd399fd",
   "metadata": {},
   "outputs": [],
   "source": [
    "categorical_features = ['Genre', 'Runtime']\n",
    "for feature in categorical_features:\n",
    "    le = LabelEncoder()\n",
    "    dataset[feature] = le.fit_transform(dataset[feature])\n"
   ]
  },
  {
   "cell_type": "code",
   "execution_count": 22,
   "id": "df0c8be3",
   "metadata": {},
   "outputs": [],
   "source": [
    "from sklearn.preprocessing import StandardScaler\n"
   ]
  },
  {
   "cell_type": "code",
   "execution_count": 23,
   "id": "b5ddfe9e",
   "metadata": {},
   "outputs": [],
   "source": [
    "scaler = StandardScaler()"
   ]
  },
  {
   "cell_type": "code",
   "execution_count": 24,
   "id": "e96df2ee",
   "metadata": {},
   "outputs": [],
   "source": [
    "import pandas as pd"
   ]
  },
  {
   "cell_type": "code",
   "execution_count": 25,
   "id": "175c22fc",
   "metadata": {},
   "outputs": [],
   "source": [
    "from sklearn.preprocessing import LabelEncoder\n"
   ]
  },
  {
   "cell_type": "code",
   "execution_count": 26,
   "id": "5b73532a",
   "metadata": {},
   "outputs": [],
   "source": [
    "categorical_features = ['Genre', 'Runtime', 'Budget']\n",
    "for feature in categorical_features:\n",
    "    le = LabelEncoder()\n",
    "    dataset[feature] = le.fit_transform(dataset[feature])"
   ]
  },
  {
   "cell_type": "code",
   "execution_count": 27,
   "id": "d2c356fb",
   "metadata": {},
   "outputs": [],
   "source": [
    "scaler = StandardScaler()\n"
   ]
  },
  {
   "cell_type": "code",
   "execution_count": 28,
   "id": "bd7b62c8",
   "metadata": {},
   "outputs": [],
   "source": [
    "dataset[\"Genre\"] = dataset[\"Genre\"].astype(\"int\")"
   ]
  },
  {
   "cell_type": "code",
   "execution_count": 29,
   "id": "f614ba2c",
   "metadata": {},
   "outputs": [],
   "source": [
    "scaler = StandardScaler()"
   ]
  },
  {
   "cell_type": "code",
   "execution_count": 30,
   "id": "a159af5a",
   "metadata": {},
   "outputs": [],
   "source": [
    "from sklearn.preprocessing import MinMaxScaler, RobustScaler, QuantileTransformer\n"
   ]
  },
  {
   "cell_type": "code",
   "execution_count": 31,
   "id": "84097000",
   "metadata": {},
   "outputs": [],
   "source": [
    "dataset = dataset[dataset['Genre'] != 'Romance']"
   ]
  },
  {
   "cell_type": "code",
   "execution_count": 32,
   "id": "4e8e0a83",
   "metadata": {},
   "outputs": [],
   "source": [
    "dataset = dataset.dropna()\n",
    "\n",
    "# Drop rows where all values are NaN/null\n",
    "dataset= dataset.dropna(how='all')\n"
   ]
  },
  {
   "cell_type": "code",
   "execution_count": 35,
   "id": "0d19f510",
   "metadata": {},
   "outputs": [
    {
     "name": "stdout",
     "output_type": "stream",
     "text": [
      "               Genre Runtime     Budget\n",
      "0            Romance      93    7500000\n",
      "1             Comedy      99    7500000\n",
      "2              Crime     100   13000000\n",
      "3                War     145   14000000\n",
      "4              Drama     107   15000000\n",
      "..               ...     ...        ...\n",
      "505        Animation     102  165000000\n",
      "506  Science Fiction     169  165000000\n",
      "507           Action     136  170000000\n",
      "508  Science Fiction     130  170000000\n",
      "509           Action     121  170000000\n",
      "\n",
      "[496 rows x 3 columns]\n"
     ]
    }
   ],
   "source": [
    "print(x)\n"
   ]
  },
  {
   "cell_type": "code",
   "execution_count": 36,
   "id": "92cf2b56",
   "metadata": {},
   "outputs": [
    {
     "name": "stdout",
     "output_type": "stream",
     "text": [
      "0      5.9\n",
      "1      7.4\n",
      "2      7.2\n",
      "3      7.2\n",
      "4      7.5\n",
      "      ... \n",
      "505    7.8\n",
      "506    8.6\n",
      "507    7.7\n",
      "508    7.6\n",
      "509    8.0\n",
      "Name: Rating, Length: 496, dtype: float64\n"
     ]
    }
   ],
   "source": [
    "print(y)\n"
   ]
  },
  {
   "cell_type": "code",
   "execution_count": 37,
   "id": "b7aac260",
   "metadata": {},
   "outputs": [],
   "source": [
    "from sklearn.model_selection import train_test_split"
   ]
  },
  {
   "cell_type": "code",
   "execution_count": 38,
   "id": "c7afcd4f",
   "metadata": {},
   "outputs": [
    {
     "data": {
      "text/html": [
       "<div>\n",
       "<style scoped>\n",
       "    .dataframe tbody tr th:only-of-type {\n",
       "        vertical-align: middle;\n",
       "    }\n",
       "\n",
       "    .dataframe tbody tr th {\n",
       "        vertical-align: top;\n",
       "    }\n",
       "\n",
       "    .dataframe thead th {\n",
       "        text-align: right;\n",
       "    }\n",
       "</style>\n",
       "<table border=\"1\" class=\"dataframe\">\n",
       "  <thead>\n",
       "    <tr style=\"text-align: right;\">\n",
       "      <th></th>\n",
       "      <th>index</th>\n",
       "      <th>MovieID</th>\n",
       "      <th>Title</th>\n",
       "      <th>MPAA Rating</th>\n",
       "      <th>Budget</th>\n",
       "      <th>Gross</th>\n",
       "      <th>Release Date</th>\n",
       "      <th>Genre</th>\n",
       "      <th>Runtime</th>\n",
       "      <th>Rating</th>\n",
       "      <th>Rating Count</th>\n",
       "      <th>Summary</th>\n",
       "    </tr>\n",
       "  </thead>\n",
       "  <tbody>\n",
       "    <tr>\n",
       "      <th>0</th>\n",
       "      <td>0</td>\n",
       "      <td>1</td>\n",
       "      <td>Look Who's Talking</td>\n",
       "      <td>PG-13</td>\n",
       "      <td>111</td>\n",
       "      <td>296000000</td>\n",
       "      <td>1989-10-12</td>\n",
       "      <td>11</td>\n",
       "      <td>86</td>\n",
       "      <td>5.9</td>\n",
       "      <td>73638</td>\n",
       "      <td>After a single, career-minded woman is left on...</td>\n",
       "    </tr>\n",
       "    <tr>\n",
       "      <th>1</th>\n",
       "      <td>1</td>\n",
       "      <td>2</td>\n",
       "      <td>Driving Miss Daisy</td>\n",
       "      <td>PG</td>\n",
       "      <td>111</td>\n",
       "      <td>145793296</td>\n",
       "      <td>1989-12-13</td>\n",
       "      <td>3</td>\n",
       "      <td>92</td>\n",
       "      <td>7.4</td>\n",
       "      <td>91075</td>\n",
       "      <td>An old Jewish woman and her African-American c...</td>\n",
       "    </tr>\n",
       "    <tr>\n",
       "      <th>2</th>\n",
       "      <td>2</td>\n",
       "      <td>3</td>\n",
       "      <td>Turner &amp; Hooch</td>\n",
       "      <td>PG</td>\n",
       "      <td>15</td>\n",
       "      <td>71079915</td>\n",
       "      <td>1989-07-28</td>\n",
       "      <td>4</td>\n",
       "      <td>0</td>\n",
       "      <td>7.2</td>\n",
       "      <td>91415</td>\n",
       "      <td>Det. Scott Turner (Tom Hanks) is an uptight, b...</td>\n",
       "    </tr>\n",
       "    <tr>\n",
       "      <th>3</th>\n",
       "      <td>3</td>\n",
       "      <td>4</td>\n",
       "      <td>Born on the Fourth of July</td>\n",
       "      <td>R</td>\n",
       "      <td>23</td>\n",
       "      <td>161001698</td>\n",
       "      <td>1989-12-20</td>\n",
       "      <td>14</td>\n",
       "      <td>45</td>\n",
       "      <td>7.2</td>\n",
       "      <td>91415</td>\n",
       "      <td>The biography of Ron Kovic. Paralyzed in the V...</td>\n",
       "    </tr>\n",
       "    <tr>\n",
       "      <th>4</th>\n",
       "      <td>4</td>\n",
       "      <td>5</td>\n",
       "      <td>Field of Dreams</td>\n",
       "      <td>PG</td>\n",
       "      <td>27</td>\n",
       "      <td>84431625</td>\n",
       "      <td>1989-04-21</td>\n",
       "      <td>5</td>\n",
       "      <td>7</td>\n",
       "      <td>7.5</td>\n",
       "      <td>101702</td>\n",
       "      <td>An Iowa corn farmer, hearing voices, interpret...</td>\n",
       "    </tr>\n",
       "    <tr>\n",
       "      <th>...</th>\n",
       "      <td>...</td>\n",
       "      <td>...</td>\n",
       "      <td>...</td>\n",
       "      <td>...</td>\n",
       "      <td>...</td>\n",
       "      <td>...</td>\n",
       "      <td>...</td>\n",
       "      <td>...</td>\n",
       "      <td>...</td>\n",
       "      <td>...</td>\n",
       "      <td>...</td>\n",
       "      <td>...</td>\n",
       "    </tr>\n",
       "    <tr>\n",
       "      <th>505</th>\n",
       "      <td>505</td>\n",
       "      <td>506</td>\n",
       "      <td>Big Hero 6</td>\n",
       "      <td>PG</td>\n",
       "      <td>32</td>\n",
       "      <td>652105443</td>\n",
       "      <td>2014-10-24</td>\n",
       "      <td>2</td>\n",
       "      <td>2</td>\n",
       "      <td>7.8</td>\n",
       "      <td>380953</td>\n",
       "      <td>The special bond that develops between plus-si...</td>\n",
       "    </tr>\n",
       "    <tr>\n",
       "      <th>506</th>\n",
       "      <td>506</td>\n",
       "      <td>507</td>\n",
       "      <td>Interstellar</td>\n",
       "      <td>PG-13</td>\n",
       "      <td>32</td>\n",
       "      <td>675120017</td>\n",
       "      <td>2014-11-05</td>\n",
       "      <td>12</td>\n",
       "      <td>62</td>\n",
       "      <td>8.6</td>\n",
       "      <td>1343549</td>\n",
       "      <td>A team of explorers travel through a wormhole ...</td>\n",
       "    </tr>\n",
       "    <tr>\n",
       "      <th>507</th>\n",
       "      <td>507</td>\n",
       "      <td>508</td>\n",
       "      <td>Captain America: The Winter Soldier</td>\n",
       "      <td>PG-13</td>\n",
       "      <td>34</td>\n",
       "      <td>714766572</td>\n",
       "      <td>2014-03-20</td>\n",
       "      <td>0</td>\n",
       "      <td>36</td>\n",
       "      <td>7.7</td>\n",
       "      <td>685903</td>\n",
       "      <td>As Steve Rogers struggles to embrace his role ...</td>\n",
       "    </tr>\n",
       "    <tr>\n",
       "      <th>508</th>\n",
       "      <td>508</td>\n",
       "      <td>509</td>\n",
       "      <td>Dawn of the Planet of the Apes</td>\n",
       "      <td>PG-13</td>\n",
       "      <td>34</td>\n",
       "      <td>710644566</td>\n",
       "      <td>2014-06-26</td>\n",
       "      <td>12</td>\n",
       "      <td>30</td>\n",
       "      <td>7.6</td>\n",
       "      <td>395425</td>\n",
       "      <td>A growing nation of genetically evolved apes l...</td>\n",
       "    </tr>\n",
       "    <tr>\n",
       "      <th>509</th>\n",
       "      <td>509</td>\n",
       "      <td>510</td>\n",
       "      <td>Guardians of the Galaxy</td>\n",
       "      <td>PG-13</td>\n",
       "      <td>34</td>\n",
       "      <td>773328629</td>\n",
       "      <td>2014-07-30</td>\n",
       "      <td>0</td>\n",
       "      <td>21</td>\n",
       "      <td>8.0</td>\n",
       "      <td>978222</td>\n",
       "      <td>A group of intergalactic criminals must pull t...</td>\n",
       "    </tr>\n",
       "  </tbody>\n",
       "</table>\n",
       "<p>496 rows × 12 columns</p>\n",
       "</div>"
      ],
      "text/plain": [
       "     index MovieID                                Title MPAA Rating  Budget  \\\n",
       "0        0       1                   Look Who's Talking       PG-13     111   \n",
       "1        1       2                   Driving Miss Daisy          PG     111   \n",
       "2        2       3                       Turner & Hooch          PG      15   \n",
       "3        3       4           Born on the Fourth of July           R      23   \n",
       "4        4       5                      Field of Dreams          PG      27   \n",
       "..     ...     ...                                  ...         ...     ...   \n",
       "505    505     506                           Big Hero 6          PG      32   \n",
       "506    506     507                         Interstellar       PG-13      32   \n",
       "507    507     508  Captain America: The Winter Soldier       PG-13      34   \n",
       "508    508     509       Dawn of the Planet of the Apes       PG-13      34   \n",
       "509    509     510              Guardians of the Galaxy       PG-13      34   \n",
       "\n",
       "         Gross Release Date  Genre  Runtime  Rating Rating Count  \\\n",
       "0    296000000   1989-10-12     11       86     5.9        73638   \n",
       "1    145793296   1989-12-13      3       92     7.4        91075   \n",
       "2     71079915   1989-07-28      4        0     7.2        91415   \n",
       "3    161001698   1989-12-20     14       45     7.2        91415   \n",
       "4     84431625   1989-04-21      5        7     7.5       101702   \n",
       "..         ...          ...    ...      ...     ...          ...   \n",
       "505  652105443   2014-10-24      2        2     7.8       380953   \n",
       "506  675120017   2014-11-05     12       62     8.6      1343549   \n",
       "507  714766572   2014-03-20      0       36     7.7       685903   \n",
       "508  710644566   2014-06-26     12       30     7.6       395425   \n",
       "509  773328629   2014-07-30      0       21     8.0       978222   \n",
       "\n",
       "                                               Summary  \n",
       "0    After a single, career-minded woman is left on...  \n",
       "1    An old Jewish woman and her African-American c...  \n",
       "2    Det. Scott Turner (Tom Hanks) is an uptight, b...  \n",
       "3    The biography of Ron Kovic. Paralyzed in the V...  \n",
       "4    An Iowa corn farmer, hearing voices, interpret...  \n",
       "..                                                 ...  \n",
       "505  The special bond that develops between plus-si...  \n",
       "506  A team of explorers travel through a wormhole ...  \n",
       "507  As Steve Rogers struggles to embrace his role ...  \n",
       "508  A growing nation of genetically evolved apes l...  \n",
       "509  A group of intergalactic criminals must pull t...  \n",
       "\n",
       "[496 rows x 12 columns]"
      ]
     },
     "execution_count": 38,
     "metadata": {},
     "output_type": "execute_result"
    }
   ],
   "source": [
    "dataset.dropna()"
   ]
  },
  {
   "cell_type": "code",
   "execution_count": 39,
   "id": "5a1e5f4d",
   "metadata": {},
   "outputs": [
    {
     "name": "stdout",
     "output_type": "stream",
     "text": [
      "(496, 3)\n",
      "(496,)\n"
     ]
    }
   ],
   "source": [
    "print(x.shape)\n",
    "print(y.shape)\n"
   ]
  },
  {
   "cell_type": "code",
   "execution_count": 40,
   "id": "ce7af906",
   "metadata": {},
   "outputs": [
    {
     "data": {
      "text/plain": [
       "(496,)"
      ]
     },
     "execution_count": 40,
     "metadata": {},
     "output_type": "execute_result"
    }
   ],
   "source": [
    "dataset['Genre'].shape"
   ]
  },
  {
   "cell_type": "code",
   "execution_count": 41,
   "id": "5867e117",
   "metadata": {},
   "outputs": [
    {
     "data": {
      "text/plain": [
       "(496,)"
      ]
     },
     "execution_count": 41,
     "metadata": {},
     "output_type": "execute_result"
    }
   ],
   "source": [
    "dataset['Budget'].shape"
   ]
  },
  {
   "cell_type": "code",
   "execution_count": 42,
   "id": "f2ae7801",
   "metadata": {},
   "outputs": [
    {
     "data": {
      "text/plain": [
       "(496,)"
      ]
     },
     "execution_count": 42,
     "metadata": {},
     "output_type": "execute_result"
    }
   ],
   "source": [
    "dataset['Runtime'].shape"
   ]
  },
  {
   "cell_type": "code",
   "execution_count": 43,
   "id": "6c5bae3b",
   "metadata": {},
   "outputs": [
    {
     "data": {
      "text/plain": [
       "(496,)"
      ]
     },
     "execution_count": 43,
     "metadata": {},
     "output_type": "execute_result"
    }
   ],
   "source": [
    "dataset['Runtime'].shape"
   ]
  },
  {
   "cell_type": "code",
   "execution_count": 44,
   "id": "8af253f6",
   "metadata": {},
   "outputs": [],
   "source": [
    "x=dataset[['Genre','Rating','Budget']];"
   ]
  },
  {
   "cell_type": "code",
   "execution_count": 45,
   "id": "338c813f",
   "metadata": {},
   "outputs": [
    {
     "data": {
      "text/plain": [
       "(496, 3)"
      ]
     },
     "execution_count": 45,
     "metadata": {},
     "output_type": "execute_result"
    }
   ],
   "source": [
    "x.shape"
   ]
  },
  {
   "cell_type": "code",
   "execution_count": 46,
   "id": "b3a2a7a8",
   "metadata": {},
   "outputs": [],
   "source": [
    "y=dataset[['Rating']];"
   ]
  },
  {
   "cell_type": "code",
   "execution_count": 47,
   "id": "77c77040",
   "metadata": {},
   "outputs": [],
   "source": [
    "y.shape;"
   ]
  },
  {
   "cell_type": "code",
   "execution_count": 48,
   "id": "f6f60ac4",
   "metadata": {},
   "outputs": [],
   "source": [
    "y.shape;"
   ]
  },
  {
   "cell_type": "code",
   "execution_count": 49,
   "id": "ed21df83",
   "metadata": {},
   "outputs": [
    {
     "name": "stdout",
     "output_type": "stream",
     "text": [
      "(496, 1)\n"
     ]
    }
   ],
   "source": [
    "# Assuming 'dataset' is your DataFrame\n",
    "y = dataset[['Rating']]  # Extracting the 'Rating' column\n",
    "print(y.shape)  # Printing the shape of 'y' to get the number of rows\n"
   ]
  },
  {
   "cell_type": "code",
   "execution_count": 50,
   "id": "ccdcb073",
   "metadata": {},
   "outputs": [],
   "source": [
    "from sklearn.preprocessing import LabelEncoder\n",
    "\n",
    "categorical_features = ['Genre', 'Runtime', 'Budget']\n",
    "for feature in categorical_features:\n",
    "    le = LabelEncoder()\n",
    "    dataset[feature] = le.fit_transform(dataset[feature])"
   ]
  },
  {
   "cell_type": "code",
   "execution_count": 51,
   "id": "543cc3b9",
   "metadata": {},
   "outputs": [],
   "source": [
    "min_max_scaler = MinMaxScaler()\n",
    "X_min_max_scaled = min_max_scaler.fit_transform(x)"
   ]
  },
  {
   "cell_type": "code",
   "execution_count": 52,
   "id": "850eecc2",
   "metadata": {},
   "outputs": [],
   "source": [
    "scaler = StandardScaler()\n",
    "standardized_data = scaler.fit_transform(x)"
   ]
  },
  {
   "cell_type": "code",
   "execution_count": 53,
   "id": "06f1c426",
   "metadata": {},
   "outputs": [],
   "source": [
    "x = standardized_data\n",
    "y = dataset['Rating']\n"
   ]
  },
  {
   "cell_type": "code",
   "execution_count": 54,
   "id": "aa498e39",
   "metadata": {},
   "outputs": [],
   "source": [
    "from sklearn.model_selection import train_test_split"
   ]
  },
  {
   "cell_type": "code",
   "execution_count": 55,
   "id": "0320c55a",
   "metadata": {},
   "outputs": [],
   "source": [
    "x_train, x_test, y_train, y_test = train_test_split(x, y, test_size=0.2, random_state=2)"
   ]
  },
  {
   "cell_type": "code",
   "execution_count": 56,
   "id": "88c09ec2",
   "metadata": {},
   "outputs": [],
   "source": [
    "from sklearn.ensemble import RandomForestRegressor"
   ]
  },
  {
   "cell_type": "code",
   "execution_count": 57,
   "id": "95166780",
   "metadata": {},
   "outputs": [],
   "source": [
    "\n",
    "regressor = RandomForestRegressor(n_estimators=100)"
   ]
  },
  {
   "cell_type": "code",
   "execution_count": 58,
   "id": "c6e58e00",
   "metadata": {},
   "outputs": [
    {
     "data": {
      "text/html": [
       "<style>#sk-container-id-1 {color: black;}#sk-container-id-1 pre{padding: 0;}#sk-container-id-1 div.sk-toggleable {background-color: white;}#sk-container-id-1 label.sk-toggleable__label {cursor: pointer;display: block;width: 100%;margin-bottom: 0;padding: 0.3em;box-sizing: border-box;text-align: center;}#sk-container-id-1 label.sk-toggleable__label-arrow:before {content: \"▸\";float: left;margin-right: 0.25em;color: #696969;}#sk-container-id-1 label.sk-toggleable__label-arrow:hover:before {color: black;}#sk-container-id-1 div.sk-estimator:hover label.sk-toggleable__label-arrow:before {color: black;}#sk-container-id-1 div.sk-toggleable__content {max-height: 0;max-width: 0;overflow: hidden;text-align: left;background-color: #f0f8ff;}#sk-container-id-1 div.sk-toggleable__content pre {margin: 0.2em;color: black;border-radius: 0.25em;background-color: #f0f8ff;}#sk-container-id-1 input.sk-toggleable__control:checked~div.sk-toggleable__content {max-height: 200px;max-width: 100%;overflow: auto;}#sk-container-id-1 input.sk-toggleable__control:checked~label.sk-toggleable__label-arrow:before {content: \"▾\";}#sk-container-id-1 div.sk-estimator input.sk-toggleable__control:checked~label.sk-toggleable__label {background-color: #d4ebff;}#sk-container-id-1 div.sk-label input.sk-toggleable__control:checked~label.sk-toggleable__label {background-color: #d4ebff;}#sk-container-id-1 input.sk-hidden--visually {border: 0;clip: rect(1px 1px 1px 1px);clip: rect(1px, 1px, 1px, 1px);height: 1px;margin: -1px;overflow: hidden;padding: 0;position: absolute;width: 1px;}#sk-container-id-1 div.sk-estimator {font-family: monospace;background-color: #f0f8ff;border: 1px dotted black;border-radius: 0.25em;box-sizing: border-box;margin-bottom: 0.5em;}#sk-container-id-1 div.sk-estimator:hover {background-color: #d4ebff;}#sk-container-id-1 div.sk-parallel-item::after {content: \"\";width: 100%;border-bottom: 1px solid gray;flex-grow: 1;}#sk-container-id-1 div.sk-label:hover label.sk-toggleable__label {background-color: #d4ebff;}#sk-container-id-1 div.sk-serial::before {content: \"\";position: absolute;border-left: 1px solid gray;box-sizing: border-box;top: 0;bottom: 0;left: 50%;z-index: 0;}#sk-container-id-1 div.sk-serial {display: flex;flex-direction: column;align-items: center;background-color: white;padding-right: 0.2em;padding-left: 0.2em;position: relative;}#sk-container-id-1 div.sk-item {position: relative;z-index: 1;}#sk-container-id-1 div.sk-parallel {display: flex;align-items: stretch;justify-content: center;background-color: white;position: relative;}#sk-container-id-1 div.sk-item::before, #sk-container-id-1 div.sk-parallel-item::before {content: \"\";position: absolute;border-left: 1px solid gray;box-sizing: border-box;top: 0;bottom: 0;left: 50%;z-index: -1;}#sk-container-id-1 div.sk-parallel-item {display: flex;flex-direction: column;z-index: 1;position: relative;background-color: white;}#sk-container-id-1 div.sk-parallel-item:first-child::after {align-self: flex-end;width: 50%;}#sk-container-id-1 div.sk-parallel-item:last-child::after {align-self: flex-start;width: 50%;}#sk-container-id-1 div.sk-parallel-item:only-child::after {width: 0;}#sk-container-id-1 div.sk-dashed-wrapped {border: 1px dashed gray;margin: 0 0.4em 0.5em 0.4em;box-sizing: border-box;padding-bottom: 0.4em;background-color: white;}#sk-container-id-1 div.sk-label label {font-family: monospace;font-weight: bold;display: inline-block;line-height: 1.2em;}#sk-container-id-1 div.sk-label-container {text-align: center;}#sk-container-id-1 div.sk-container {/* jupyter's `normalize.less` sets `[hidden] { display: none; }` but bootstrap.min.css set `[hidden] { display: none !important; }` so we also need the `!important` here to be able to override the default hidden behavior on the sphinx rendered scikit-learn.org. See: https://github.com/scikit-learn/scikit-learn/issues/21755 */display: inline-block !important;position: relative;}#sk-container-id-1 div.sk-text-repr-fallback {display: none;}</style><div id=\"sk-container-id-1\" class=\"sk-top-container\"><div class=\"sk-text-repr-fallback\"><pre>RandomForestRegressor()</pre><b>In a Jupyter environment, please rerun this cell to show the HTML representation or trust the notebook. <br />On GitHub, the HTML representation is unable to render, please try loading this page with nbviewer.org.</b></div><div class=\"sk-container\" hidden><div class=\"sk-item\"><div class=\"sk-estimator sk-toggleable\"><input class=\"sk-toggleable__control sk-hidden--visually\" id=\"sk-estimator-id-1\" type=\"checkbox\" checked><label for=\"sk-estimator-id-1\" class=\"sk-toggleable__label sk-toggleable__label-arrow\">RandomForestRegressor</label><div class=\"sk-toggleable__content\"><pre>RandomForestRegressor()</pre></div></div></div></div></div>"
      ],
      "text/plain": [
       "RandomForestRegressor()"
      ]
     },
     "execution_count": 58,
     "metadata": {},
     "output_type": "execute_result"
    }
   ],
   "source": [
    "regressor.fit(x_train, y_train)"
   ]
  },
  {
   "cell_type": "code",
   "execution_count": 59,
   "id": "15347582",
   "metadata": {},
   "outputs": [],
   "source": [
    "from sklearn.metrics import mean_absolute_error"
   ]
  },
  {
   "cell_type": "code",
   "execution_count": 60,
   "id": "7a1922d6",
   "metadata": {},
   "outputs": [
    {
     "name": "stdout",
     "output_type": "stream",
     "text": [
      "Mean Absolute error:  0.0016262626262676058\n"
     ]
    }
   ],
   "source": [
    "# Accuracy of training data\n",
    "x_train_prediction = regressor.predict(x_train)\n",
    "mae = mean_absolute_error(x_train_prediction, y_train)\n",
    "print(\"Mean Absolute error: \", mae)\n"
   ]
  },
  {
   "cell_type": "code",
   "execution_count": 61,
   "id": "00cf7b58",
   "metadata": {},
   "outputs": [
    {
     "name": "stdout",
     "output_type": "stream",
     "text": [
      "Mean Absolute error:  0.008690000000005976\n"
     ]
    }
   ],
   "source": [
    "# Accuracy of testing data\n",
    "x_test_prediction = regressor.predict(x_test)\n",
    "mae = mean_absolute_error(x_test_prediction, y_test)\n",
    "print(\"Mean Absolute error: \", mae)\n"
   ]
  },
  {
   "cell_type": "code",
   "execution_count": 62,
   "id": "46589e56",
   "metadata": {},
   "outputs": [
    {
     "data": {
      "text/html": [
       "<style>#sk-container-id-2 {color: black;}#sk-container-id-2 pre{padding: 0;}#sk-container-id-2 div.sk-toggleable {background-color: white;}#sk-container-id-2 label.sk-toggleable__label {cursor: pointer;display: block;width: 100%;margin-bottom: 0;padding: 0.3em;box-sizing: border-box;text-align: center;}#sk-container-id-2 label.sk-toggleable__label-arrow:before {content: \"▸\";float: left;margin-right: 0.25em;color: #696969;}#sk-container-id-2 label.sk-toggleable__label-arrow:hover:before {color: black;}#sk-container-id-2 div.sk-estimator:hover label.sk-toggleable__label-arrow:before {color: black;}#sk-container-id-2 div.sk-toggleable__content {max-height: 0;max-width: 0;overflow: hidden;text-align: left;background-color: #f0f8ff;}#sk-container-id-2 div.sk-toggleable__content pre {margin: 0.2em;color: black;border-radius: 0.25em;background-color: #f0f8ff;}#sk-container-id-2 input.sk-toggleable__control:checked~div.sk-toggleable__content {max-height: 200px;max-width: 100%;overflow: auto;}#sk-container-id-2 input.sk-toggleable__control:checked~label.sk-toggleable__label-arrow:before {content: \"▾\";}#sk-container-id-2 div.sk-estimator input.sk-toggleable__control:checked~label.sk-toggleable__label {background-color: #d4ebff;}#sk-container-id-2 div.sk-label input.sk-toggleable__control:checked~label.sk-toggleable__label {background-color: #d4ebff;}#sk-container-id-2 input.sk-hidden--visually {border: 0;clip: rect(1px 1px 1px 1px);clip: rect(1px, 1px, 1px, 1px);height: 1px;margin: -1px;overflow: hidden;padding: 0;position: absolute;width: 1px;}#sk-container-id-2 div.sk-estimator {font-family: monospace;background-color: #f0f8ff;border: 1px dotted black;border-radius: 0.25em;box-sizing: border-box;margin-bottom: 0.5em;}#sk-container-id-2 div.sk-estimator:hover {background-color: #d4ebff;}#sk-container-id-2 div.sk-parallel-item::after {content: \"\";width: 100%;border-bottom: 1px solid gray;flex-grow: 1;}#sk-container-id-2 div.sk-label:hover label.sk-toggleable__label {background-color: #d4ebff;}#sk-container-id-2 div.sk-serial::before {content: \"\";position: absolute;border-left: 1px solid gray;box-sizing: border-box;top: 0;bottom: 0;left: 50%;z-index: 0;}#sk-container-id-2 div.sk-serial {display: flex;flex-direction: column;align-items: center;background-color: white;padding-right: 0.2em;padding-left: 0.2em;position: relative;}#sk-container-id-2 div.sk-item {position: relative;z-index: 1;}#sk-container-id-2 div.sk-parallel {display: flex;align-items: stretch;justify-content: center;background-color: white;position: relative;}#sk-container-id-2 div.sk-item::before, #sk-container-id-2 div.sk-parallel-item::before {content: \"\";position: absolute;border-left: 1px solid gray;box-sizing: border-box;top: 0;bottom: 0;left: 50%;z-index: -1;}#sk-container-id-2 div.sk-parallel-item {display: flex;flex-direction: column;z-index: 1;position: relative;background-color: white;}#sk-container-id-2 div.sk-parallel-item:first-child::after {align-self: flex-end;width: 50%;}#sk-container-id-2 div.sk-parallel-item:last-child::after {align-self: flex-start;width: 50%;}#sk-container-id-2 div.sk-parallel-item:only-child::after {width: 0;}#sk-container-id-2 div.sk-dashed-wrapped {border: 1px dashed gray;margin: 0 0.4em 0.5em 0.4em;box-sizing: border-box;padding-bottom: 0.4em;background-color: white;}#sk-container-id-2 div.sk-label label {font-family: monospace;font-weight: bold;display: inline-block;line-height: 1.2em;}#sk-container-id-2 div.sk-label-container {text-align: center;}#sk-container-id-2 div.sk-container {/* jupyter's `normalize.less` sets `[hidden] { display: none; }` but bootstrap.min.css set `[hidden] { display: none !important; }` so we also need the `!important` here to be able to override the default hidden behavior on the sphinx rendered scikit-learn.org. See: https://github.com/scikit-learn/scikit-learn/issues/21755 */display: inline-block !important;position: relative;}#sk-container-id-2 div.sk-text-repr-fallback {display: none;}</style><div id=\"sk-container-id-2\" class=\"sk-top-container\"><div class=\"sk-text-repr-fallback\"><pre>RandomForestRegressor()</pre><b>In a Jupyter environment, please rerun this cell to show the HTML representation or trust the notebook. <br />On GitHub, the HTML representation is unable to render, please try loading this page with nbviewer.org.</b></div><div class=\"sk-container\" hidden><div class=\"sk-item\"><div class=\"sk-estimator sk-toggleable\"><input class=\"sk-toggleable__control sk-hidden--visually\" id=\"sk-estimator-id-2\" type=\"checkbox\" checked><label for=\"sk-estimator-id-2\" class=\"sk-toggleable__label sk-toggleable__label-arrow\">RandomForestRegressor</label><div class=\"sk-toggleable__content\"><pre>RandomForestRegressor()</pre></div></div></div></div></div>"
      ],
      "text/plain": [
       "RandomForestRegressor()"
      ]
     },
     "execution_count": 62,
     "metadata": {},
     "output_type": "execute_result"
    }
   ],
   "source": [
    "\n",
    "regressor = RandomForestRegressor(n_estimators=100)\n",
    "regressor.fit(x_train, y_train)"
   ]
  },
  {
   "cell_type": "code",
   "execution_count": 63,
   "id": "bd52a305",
   "metadata": {},
   "outputs": [
    {
     "name": "stdout",
     "output_type": "stream",
     "text": [
      "0.9986911000116276\n"
     ]
    }
   ],
   "source": [
    "print(regressor.score(x_test,y_test))"
   ]
  },
  {
   "cell_type": "code",
   "execution_count": null,
   "id": "8b1311c3",
   "metadata": {},
   "outputs": [],
   "source": []
  },
  {
   "cell_type": "code",
   "execution_count": null,
   "id": "d6c7c0de",
   "metadata": {},
   "outputs": [],
   "source": []
  },
  {
   "cell_type": "code",
   "execution_count": null,
   "id": "43ce58f3",
   "metadata": {},
   "outputs": [],
   "source": []
  },
  {
   "cell_type": "code",
   "execution_count": null,
   "id": "d124b9d0",
   "metadata": {},
   "outputs": [],
   "source": []
  }
 ],
 "metadata": {
  "kernelspec": {
   "display_name": "Python 3 (ipykernel)",
   "language": "python",
   "name": "python3"
  },
  "language_info": {
   "codemirror_mode": {
    "name": "ipython",
    "version": 3
   },
   "file_extension": ".py",
   "mimetype": "text/x-python",
   "name": "python",
   "nbconvert_exporter": "python",
   "pygments_lexer": "ipython3",
   "version": "3.11.4"
  }
 },
 "nbformat": 4,
 "nbformat_minor": 5
}
